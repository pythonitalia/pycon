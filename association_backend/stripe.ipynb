{
 "cells": [
  {
   "cell_type": "code",
   "execution_count": 3,
   "metadata": {
    "collapsed": true
   },
   "outputs": [],
   "source": [
    "\n",
    "STRIPE_SUBSCRIPTION_API_SECRET=\"sk_test_8E9MtMV991He0dI1EQeYllJS00w9e3GAqF\"\n",
    "STRIPE_SUBSCRIPTION_API_KEY=\"pk_test_RdkynlDlhg1M2Z6pQMdN7XD0007K5WoBP1\"\n",
    "STRIPE_SUBSCRIPTION_PRODUCT_ID=\"prod_Iuw7ETpNBxgMO9\"\n",
    "STRIPE_SUBSCRIPTION_PRICE_ID=\"price_1IJ6FUBdGh4ViRn9tkQFtU1R\"\n",
    "STRIPE_WEBHOOK_SIGNATURE_SECRET=\"whsec_ZotzrBltChsUeWYThR7IfvteafbFNRjn\"\n",
    "\n",
    "STRIPE_SUBSCRIPTION_SUCCESS_URL=\"https://association.python.it/payments/success\"\n",
    "STRIPE_SUBSCRIPTION_CANCEL_URL=\"https://association.python.it/payments/cancel\"\n",
    "import stripe\n"
   ]
  },
  {
   "cell_type": "code",
   "execution_count": 8,
   "outputs": [],
   "source": [
    "stripe.api_key = STRIPE_SUBSCRIPTION_API_SECRET\n",
    "\n",
    "customer_payload = {\"customer_email\":\"gaetsanodonghia@gmail.com\"}\n",
    "checkout_session = stripe.checkout.Session.create(\n",
    "            success_url=STRIPE_SUBSCRIPTION_SUCCESS_URL+\"?session_id={CHECKOUT_SESSION_ID}\",\n",
    "            cancel_url=STRIPE_SUBSCRIPTION_CANCEL_URL,\n",
    "            payment_method_types=[\"card\"],\n",
    "            mode=\"subscription\",\n",
    "            line_items=[\n",
    "                {\n",
    "                    \"price\": STRIPE_SUBSCRIPTION_PRICE_ID,\n",
    "                    # For metered billing, do not pass quantity\n",
    "                    \"quantity\": 1\n",
    "                }\n",
    "            ],\n",
    "            **customer_payload,\n",
    "        )"
   ],
   "metadata": {
    "collapsed": false,
    "pycharm": {
     "name": "#%%\n"
    }
   }
  },
  {
   "cell_type": "code",
   "execution_count": null,
   "outputs": [],
   "source": [],
   "metadata": {
    "collapsed": false,
    "pycharm": {
     "name": "#%%\n"
    }
   }
  }
 ],
 "metadata": {
  "kernelspec": {
   "display_name": "Python 3",
   "language": "python",
   "name": "python3"
  },
  "language_info": {
   "codemirror_mode": {
    "name": "ipython",
    "version": 2
   },
   "file_extension": ".py",
   "mimetype": "text/x-python",
   "name": "python",
   "nbconvert_exporter": "python",
   "pygments_lexer": "ipython2",
   "version": "2.7.6"
  }
 },
 "nbformat": 4,
 "nbformat_minor": 0
}